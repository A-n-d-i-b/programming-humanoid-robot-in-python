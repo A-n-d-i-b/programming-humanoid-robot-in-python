{
 "metadata": {
  "name": "",
  "signature": "sha256:f249c37484998556feaf9ad87584bf7a7b5eba2209eb514f04b43932fe20cbc7"
 },
 "nbformat": 3,
 "nbformat_minor": 0,
 "worksheets": [
  {
   "cells": [
    {
     "cell_type": "heading",
     "level": 1,
     "metadata": {},
     "source": [
      "Robot Arm Kinematics (2D)"
     ]
    },
    {
     "cell_type": "code",
     "collapsed": false,
     "input": [
      "from math import sin, cos, pi\n",
      "import numpy as np\n",
      "%matplotlib inline\n",
      "from pylab import *\n",
      "rcParams['figure.figsize'] = 12, 10  # that's default image size for this interactive session\n",
      "from IPython import display\n",
      "from IPython.html.widgets import interact, fixed"
     ],
     "language": "python",
     "metadata": {},
     "outputs": [],
     "prompt_number": 194
    },
    {
     "cell_type": "heading",
     "level": 2,
     "metadata": {},
     "source": [
      "Coordinate Transformation"
     ]
    },
    {
     "cell_type": "code",
     "collapsed": false,
     "input": [
      "def trans(x, y, a):\n",
      "    '''create a 2D transformation'''\n",
      "    s = sin(a)\n",
      "    c = cos(a)\n",
      "    return np.asarray([[c, -s, x],\n",
      "                       [s,  c, y],\n",
      "                       [0,  0, 1]])"
     ],
     "language": "python",
     "metadata": {},
     "outputs": [],
     "prompt_number": 195
    },
    {
     "cell_type": "code",
     "collapsed": false,
     "input": [
      "trans(0, 0, 0)"
     ],
     "language": "python",
     "metadata": {},
     "outputs": [
      {
       "metadata": {},
       "output_type": "pyout",
       "prompt_number": 196,
       "text": [
        "array([[ 1., -0.,  0.],\n",
        "       [ 0.,  1.,  0.],\n",
        "       [ 0.,  0.,  1.]])"
       ]
      }
     ],
     "prompt_number": 196
    },
    {
     "cell_type": "heading",
     "level": 2,
     "metadata": {},
     "source": [
      "Parameters of robot arm"
     ]
    },
    {
     "cell_type": "code",
     "collapsed": false,
     "input": [
      "N = 3  # number of links\n",
      "l = [0] + range(N, 0, -1)  # length of link, l[0] is ingored\n",
      "max_len = sum(l)\n",
      "a = np.random.random_sample(N)  # angles of joints\n",
      "T0 = trans(0, 0, 0)  # base"
     ],
     "language": "python",
     "metadata": {},
     "outputs": [],
     "prompt_number": 197
    },
    {
     "cell_type": "heading",
     "level": 2,
     "metadata": {},
     "source": [
      "Forward Kinematics"
     ]
    },
    {
     "cell_type": "code",
     "collapsed": false,
     "input": [
      "def forward_kinematics(T0, l, a):\n",
      "    T = [T0]\n",
      "    for i in range(len(a)):\n",
      "        Ti = T[-1].dot(trans(l[i], 0, a[i]))\n",
      "        T.append(Ti)\n",
      "    Te = T[-1].dot(trans(l[-1], 0, 0))  # end effector\n",
      "    T.append(Te)\n",
      "    return T"
     ],
     "language": "python",
     "metadata": {},
     "outputs": [],
     "prompt_number": 198
    },
    {
     "cell_type": "code",
     "collapsed": false,
     "input": [
      "def show_robot_arm(T):\n",
      "    cla()\n",
      "    x = [Ti[0,-1] for Ti in T]\n",
      "    y = [Ti[1,-1] for Ti in T]\n",
      "    plot(x, y, '-or')\n",
      "    xlim([-max_len, max_len])\n",
      "    ylim([-max_len, max_len]) \n",
      "    axes().set_aspect('equal')\n",
      "    display.clear_output(wait=True)"
     ],
     "language": "python",
     "metadata": {},
     "outputs": [],
     "prompt_number": 200
    },
    {
     "cell_type": "code",
     "collapsed": false,
     "input": [
      "for i in range(N):\n",
      "    @interact(value=(-pi/2, pi/2, 0.1), n=fixed(i))\n",
      "    def set_joint_target(n, value=0):\n",
      "        global a\n",
      "        a[n] = value\n",
      "        T = forward_kinematics(T0, l, a)\n",
      "        show_robot_arm(T)\n"
     ],
     "language": "python",
     "metadata": {},
     "outputs": [
      {
       "metadata": {},
       "output_type": "display_data",
       "png": "[encoded data removed]",
       "text": [
        "<matplotlib.figure.Figure at 0x7f477be6bd90>"
       ]
      }
     ],
     "prompt_number": 201
    },
    {
     "cell_type": "code",
     "collapsed": false,
     "input": [],
     "language": "python",
     "metadata": {},
     "outputs": [],
     "prompt_number": 116
    },
    {
     "cell_type": "code",
     "collapsed": false,
     "input": [],
     "language": "python",
     "metadata": {},
     "outputs": []
    },
    {
     "cell_type": "code",
     "collapsed": false,
     "input": [],
     "language": "python",
     "metadata": {},
     "outputs": []
    }
   ],
   "metadata": {}
  }
 ]
}